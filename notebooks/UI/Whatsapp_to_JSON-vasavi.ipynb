{
  "nbformat": 4,
  "nbformat_minor": 0,
  "metadata": {
    "colab": {
      "name": "Whatsapp.ipynb",
      "provenance": [],
      "collapsed_sections": [],
      "authorship_tag": "ABX9TyP9lk6OHMwj3NQVlxRCttO4",
      "include_colab_link": true
    },
    "kernelspec": {
      "name": "python3",
      "display_name": "Python 3"
    }
  },
  "cells": [
    {
      "cell_type": "markdown",
      "metadata": {
        "id": "view-in-github",
        "colab_type": "text"
      },
      "source": [
        "<a href=\"https://colab.research.google.com/github/SriSatyaLokesh/some-app-for-whatsapp/blob/master/notebooks/UI/Whatsapp_to_JSON-vasavi.ipynb\" target=\"_parent\"><img src=\"https://colab.research.google.com/assets/colab-badge.svg\" alt=\"Open In Colab\"/></a>"
      ]
    },
    {
      "cell_type": "code",
      "metadata": {
        "id": "ksoYc3GcYxCM",
        "colab_type": "code",
        "colab": {
          "resources": {
            "http://localhost:8080/nbextensions/google.colab/files.js": {
              "data": "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",
              "ok": true,
              "headers": [
                [
                  "content-type",
                  "application/javascript"
                ]
              ],
              "status": 200,
              "status_text": ""
            }
          },
          "base_uri": "https://localhost:8080/",
          "height": 74
        },
        "outputId": "f1aa357a-4b0d-4fb1-ef9f-69d41a68aa00"
      },
      "source": [
        "from google.colab import files\n",
        "uploaded = files.upload()"
      ],
      "execution_count": 3,
      "outputs": [
        {
          "output_type": "display_data",
          "data": {
            "text/html": [
              "\n",
              "     <input type=\"file\" id=\"files-b57e02bf-b6d3-4371-8099-b63aac73de0c\" name=\"files[]\" multiple disabled />\n",
              "     <output id=\"result-b57e02bf-b6d3-4371-8099-b63aac73de0c\">\n",
              "      Upload widget is only available when the cell has been executed in the\n",
              "      current browser session. Please rerun this cell to enable.\n",
              "      </output>\n",
              "      <script src=\"/nbextensions/google.colab/files.js\"></script> "
            ],
            "text/plain": [
              "<IPython.core.display.HTML object>"
            ]
          },
          "metadata": {
            "tags": []
          }
        },
        {
          "output_type": "stream",
          "text": [
            "Saving group_chat.txt to group_chat.txt\n"
          ],
          "name": "stdout"
        }
      ]
    },
    {
      "cell_type": "code",
      "metadata": {
        "id": "8FTvk5D7Y2Yo",
        "colab_type": "code",
        "colab": {
          "base_uri": "https://localhost:8080/",
          "height": 1000
        },
        "outputId": "811eab5b-5bcb-4665-cdd3-ab7715a50738"
      },
      "source": [
        "import re\n",
        "with open(\"group_chat.txt\") as file:\n",
        "  chat = []\n",
        "  for line in file:\n",
        "    d = dict()\n",
        "    if re.match(\"^\\d{2}/\\d{2}/\\d{2},\\s\\d{1,2}:\\d{2}\\s[ap]m\",line):\n",
        "      date_split = line.split(' - ')\n",
        "      d['datetime'] = date_split[0]\n",
        "      user_split = date_split[1].split(':')\n",
        "      if len(user_split) == 1:\n",
        "        d['isAction'] = True\n",
        "        d['action'] = user_split[0]\n",
        "      else:\n",
        "        d['user'] = user_split[0]\n",
        "        if \"<Media omitted>\" in user_split[1]:\n",
        "          d['isMedia'] = True\n",
        "        else:\n",
        "          d[\"isMessage\"]= True\n",
        "          d['message'] = user_split[1]\n",
        "    else:\n",
        "      temp = len(chat) - 1\n",
        "      while temp >= 0:\n",
        "        if 'isMessage' in chat[temp]:\n",
        "          chat[temp]['message'] += line\n",
        "          break\n",
        "        else:\n",
        "          temp -= 1\n",
        "    chat.append(d)\n",
        "\n",
        "chat1 = list(filter(lambda empty: empty != {}, chat))\n",
        "\n",
        "for i in chat1:\n",
        "  print(i) "
      ],
      "execution_count": 5,
      "outputs": [
        {
          "output_type": "stream",
          "text": [
            "{'datetime': '29/06/19, 5:26 pm', 'isAction': True, 'action': '+91 90100 31798 created group \"CSE B lV YEAR\"\\n'}\n",
            "{'datetime': '29/06/19, 5:26 pm', 'isAction': True, 'action': 'You were added\\n'}\n",
            "{'datetime': '24/07/19, 10:34 pm', 'user': '+91 81071 98887', 'isMedia': True}\n",
            "{'datetime': '24/07/19, 10:34 pm', 'user': '+91 81071 98887', 'isMedia': True}\n",
            "{'datetime': '24/07/19, 10:34 pm', 'user': '+91 81071 98887', 'isMessage': True, 'message': ' Unit 1 Complete notes OST 👆👆\\n'}\n",
            "{'datetime': '30/07/19, 10:35 am', 'user': '+91 81071 98887', 'isMessage': True, 'message': ' Assignment -1 of OST has been share submit it on Friday.\\n'}\n",
            "{'datetime': '30/07/19, 1:42 pm', 'user': '+91 73963 22930', 'isMedia': True}\n",
            "{'datetime': '02/08/19, 5:26 pm', 'user': '+91 81071 98887', 'isMedia': True}\n",
            "{'datetime': '02/08/19, 5:27 pm', 'user': '+91 81071 98887', 'isMedia': True}\n",
            "{'datetime': '02/08/19, 5:27 pm', 'user': '+91 81071 98887', 'isMedia': True}\n",
            "{'datetime': '02/08/19, 5:28 pm', 'user': '+91 81071 98887', 'isMedia': True}\n",
            "{'datetime': '02/08/19, 5:28 pm', 'user': '+91 81071 98887', 'isMedia': True}\n",
            "{'datetime': '02/08/19, 5:28 pm', 'user': '+91 81071 98887', 'isMedia': True}\n",
            "{'datetime': '02/08/19, 5:28 pm', 'user': '+91 81071 98887', 'isMedia': True}\n",
            "{'datetime': '02/08/19, 5:29 pm', 'user': '+91 81071 98887', 'isMedia': True}\n",
            "{'datetime': '02/08/19, 5:29 pm', 'user': '+91 81071 98887', 'isMessage': True, 'message': ' All Unit-2 Complete Notes\\n'}\n",
            "{'datetime': '02/08/19, 5:36 pm', 'user': 'Vasavi', 'isMessage': True, 'message': ' You deleted this message\\n'}\n",
            "{'datetime': '05/08/19, 10:04 am', 'user': '+91 81071 98887', 'isMedia': True}\n",
            "{'datetime': '13/08/19, 6:48 pm', 'user': '+91 96768 85087', 'isMessage': True, 'message': ' https'}\n",
            "{'datetime': '18/08/19, 9:48 pm', 'user': '+91 94410 30645', 'isMessage': True, 'message': ' Dear Students of B. Tech VII Semester Section A, B, C, & D are informing you that Department of CSE planning that your Major projects 2019-20 Batches will going to form based on the Domains. So, Register as early as possible your interesting domain through the given link on or before 13-07-2019(Saturday).\\n\\nLink: https://forms.gle/WGpsBVQy36Z2rFYb8\\n'}\n",
            "{'datetime': '18/08/19, 9:50 pm', 'user': '+91 94410 30645', 'isMessage': True, 'message': ' If Already Registered, pls avoid this Message. Registered Members u can find\\n'}\n",
            "{'datetime': '18/08/19, 9:50 pm', 'user': '+91 94410 30645', 'isMedia': True}\n",
            "{'datetime': '18/08/19, 10:02 pm', 'user': '+91 94410 30645', 'isMessage': True, 'message': ' 16MINIB-12\\n16MINIB-15\\n'}\n",
            "{'datetime': '18/08/19, 10:02 pm', 'user': '+91 94410 30645', 'isMessage': True, 'message': ' Fill Mini Project details link'}\n",
            "{'datetime': '19/08/19, 3:48 pm', 'isAction': True, 'action': '+91 76619 34525 left\\n'}\n",
            "{'datetime': '22/08/19, 10:01 am', 'user': '+91 94410 30645', 'isMedia': True}\n",
            "{'datetime': '22/08/19, 10:01 am', 'user': '+91 94410 30645', 'isMessage': True, 'message': ' Link'}\n",
            "{'datetime': '23/08/19, 9:39 am', 'user': '+91 94410 30645', 'isMedia': True}\n",
            "{'datetime': '23/08/19, 9:46 am', 'user': '+91 96768 85087', 'isMedia': True}\n",
            "{'datetime': '23/08/19, 9:47 am', 'user': '+91 96768 85087', 'isMessage': True, 'message': ' My roll no is '}\n",
            "{'datetime': '24/08/19, 1:18 pm', 'user': '+91 94410 30645', 'isMessage': True, 'message': ' on Monday Main Project Batches are going to Display as per Domain. Those who are not registered pls take permission from HOD. Thank u.\\n'}\n",
            "{'datetime': '24/08/19, 1:22 pm', 'user': '+91 94410 30645', 'isMedia': True}\n",
            "{'datetime': '09/09/19, 10:47 am', 'user': '+91 91774 56482', 'isMessage': True, 'message': ' Dear students update MAD LAB Records as per the manual sent..., get it corrected by 16/9/2019.\\n\\n\\nwrite up to 8 weeks... during the holydays.., also prepare them. for your lab internal.\\n'}\n",
            "{'datetime': '09/09/19, 12:28 pm', 'user': '+91 81071 98887', 'isMessage': True, 'message': ' Dear students update OST LAB Records as per the manual sent..., get it corrected by 16/9/2019.\\n\\n\\nwrite up to 10 weeks... during the holydays.., also prepare them. for your lab internal.\\n'}\n",
            "{'datetime': '12/09/19, 7:09 pm', 'user': '+91 70329 01205', 'isMessage': True, 'message': ' For 2020 passed outs\\n'}\n",
            "{'datetime': '12/09/19, 7:09 pm', 'user': '+91 70329 01205', 'isMessage': True, 'message': ' https'}\n",
            "{'datetime': '13/09/19, 9:24 pm', 'user': '+91 99636 58876', 'isMessage': True, 'message': ' Check out the offer letters in TCS next step portal, for the people who are selected for ninja profile through TCS nqt test. You need to accept the offer and do the necessary procedure within 7 days otherwise the offer is automatically withdrawn. Kindly spread the word.\\n'}\n",
            "{'datetime': '21/09/19, 8:48 pm', 'user': '+91 81071 98887', 'isMedia': True}\n",
            "{'datetime': '21/09/19, 8:48 pm', 'user': '+91 81071 98887', 'isMessage': True, 'message': ' Time table to be followed for final year for next four days\\n'}\n",
            "{'datetime': '22/09/19, 4:05 pm', 'user': '+91 94410 30645', 'isMessage': True, 'message': ' Dear Students of IV Year CSE Section A, B, C, and D it is informing you that Mini Project Expo 2019-20 is scheduled on 26-09-2019(Thursday) from 10AM to 12\\nNote:\\nSubmit one CD (include Final PPT, Mini Project Final Report Word Document, Project Folder)\\nWrite your Batch Id & Team Members Roll nos, and Names on CD Cover submit To S Venu Gopal, Assistant Professor, Dept. of CSE\\n'}\n",
            "{'datetime': '22/09/19, 4:14 pm', 'user': '+91 94410 30645', 'isMedia': True}\n",
            "{'datetime': '23/09/19, 9:42 am', 'user': '+91 91774 56482', 'isMessage': True, 'message': ' Dear students MAD LAB INTERNAL is scheduled on 14-10-2019\\n'}\n",
            "{'datetime': '23/09/19, 9:43 am', 'user': '+91 91774 56482', 'isMessage': True, 'message': ' get your records corrected on or before 25/9/2019..\\n'}\n",
            "{'datetime': '23/09/19, 12:11 pm', 'user': '+91 81071 98887', 'isMedia': True}\n",
            "{'datetime': '23/09/19, 12:11 pm', 'user': '+91 81071 98887', 'isMedia': True}\n",
            "{'datetime': '23/09/19, 12:11 pm', 'user': '+91 81071 98887', 'isMedia': True}\n",
            "{'datetime': '23/09/19, 12:11 pm', 'user': '+91 81071 98887', 'isMedia': True}\n",
            "{'datetime': '23/09/19, 12:11 pm', 'user': '+91 81071 98887', 'isMedia': True}\n",
            "{'datetime': '23/09/19, 12:11 pm', 'user': '+91 81071 98887', 'isMessage': True, 'message': ' Complete Notes With All Programs of Unit-3\\n'}\n",
            "{'datetime': '23/09/19, 12:19 pm', 'user': '+91 81071 98887', 'isMessage': True, 'message': ' Shared with yr common group mail too.\\n'}\n",
            "{'datetime': '25/09/19, 12:12 pm', 'user': '+91 94410 30645', 'isMessage': True, 'message': ' Mini Project Expo'}\n",
            "{'datetime': '25/09/19, 12:13 pm', 'user': '+91 94410 30645', 'isMedia': True}\n",
            "{'datetime': '25/09/19, 2:58 pm', 'user': '+91 94410 30645', 'isMessage': True, 'message': ' Dear Students of IV Year CSE Section A, B, C, and D it is informing you that Mini Project Expo 2019-20 is scheduled on 26-09-2019(Thursday) from 10AM to 12All the Batches: Report 9AM  \\nNote:\\nSubmit one CD (include Final PPT, Mini Project Final Report Word Document, Project Folder)\\nWrite your Batch Id & Team Members Roll nos, and Names on CD Cover submit To S Venu Gopal, Assistant Professor, Dept. of CSE\\n'}\n",
            "{'datetime': '26/09/19, 8:15 am', 'user': '+91 94410 30645', 'isMessage': True, 'message': ' All the Final year CSE Section A, B, C ,and D submit CD(Include Final PPT, Mini Project Document, Project folder) and Project Expo at 1208, Block-1, 10am to 12'}\n",
            "{'datetime': '26/09/19, 10:16 am', 'user': '+91 91774 56482', 'isMessage': True, 'message': ' All the final year class incharges are requested to send the Final year students to \\n1009 at 10:30 AM\\nTo attend a session on Higher education...\\n\\nInformation from Office.\\n'}\n",
            "{'datetime': '04/10/19, 10:37 pm', 'user': '+91 94410 30645', 'isMedia': True}\n",
            "{'datetime': '04/10/19, 10:38 pm', 'user': '+91 94410 30645', 'isMessage': True, 'message': ' All the final year students need to participate...\\n'}\n",
            "{'datetime': '11/10/19, 9:18 pm', 'user': '+91 94410 30645', 'isMessage': True, 'message': ' Dear,\\nAll the B. Tech VII SEMETER  CSE Section A, B, C, & D Students are informing you that Main Project 2019-20 abstract submission (Hard Copy) deadline is on or before 17-10-2019 (Thursday) by 3:30PM.\\n\\nMain Project Incharge & Coordinators:\\nINCHARGE    :     Mr S Venu Gopal, Assistant Professor\\n\\nCOORDINATORS:\\nSECTION-A :  Mr C Satya Kumar, Assistant Professor\\nSECTION-B :  Mr B Suresh Kumar, Assistant Professor\\nSECTION-C :  Ms V Umamaheswari, Assistant Professor\\nSECTION-D :  Dr K Prabhakar, Associate Professor\\n\\nNote: \\n1. Project Title and Abstratct should come under the Theme \"SMART CITIES\"\\n2. Follow the Abstract Template which i am attaching.\\n'}\n",
            "{'datetime': '11/10/19, 9:19 pm', 'user': '+91 94410 30645', 'isMedia': True}\n",
            "{'datetime': '14/10/19, 2:53 pm', 'user': '+91 81071 98887', 'isMessage': True, 'message': ' Dear Students,\\nPlease Circulate these Notes among students of CSE-A and CSE-B.\\n'}\n",
            "{'datetime': '14/10/19, 2:53 pm', 'user': '+91 81071 98887', 'isMedia': True}\n",
            "{'datetime': '14/10/19, 3:00 pm', 'isAction': True, 'action': '+91 79811 64181 left\\n'}\n",
            "{'datetime': '18/10/19, 11:27 am', 'user': '+91 81071 98887', 'isMessage': True, 'message': ' OST Internal Exam will be on 21 October, 2019 for Sec A. Those students from sec B missed the exam by any reason can write with sec A on the same day.                       You have to follow the following instructions                                                                                                                                                                                                                                                                       1. Follow the code of conduct.\\n'}\n",
            "{'datetime': '23/10/19, 10:09 am', 'user': '+91 94410 30645', 'isMessage': True, 'message': ' 16881A0566\\n16881A0579\\nSend ur Aadhar Numbers immediately\\n'}\n",
            "{'datetime': '23/10/19, 10:21 am', 'user': '+91 98664 44079', 'isMessage': True, 'message': ' 16881A0597 also send your Aadhar number\\n'}\n",
            "{'datetime': '31/10/19, 9:29 am', 'user': '+91 81071 98887', 'isMedia': True}\n",
            "{'datetime': '04/11/19, 4:20 pm', 'user': '+91 81071 98887', 'isMessage': True, 'message': ' Timing for OST External Exam 9 to 11'}\n",
            "{'datetime': '15/11/19, 6:16 pm', 'isAction': True, 'action': '+91 91774 56482 left\\n'}\n",
            "{'datetime': '26/11/19, 9:29 pm', 'user': '+91 94410 30645', 'isMessage': True, 'message': ' Dear Students of IV Year II Sem CSE A, B, C, & D Section it is informing you that submit Main Project abstract with discussion of your assigned guide on or before 04-12-2019 (Wednesday). \\n\\nWhoever submit abstracts we are scheduling First Review from 09-12-2019(Monday)\\n\\n\\nNote: \\n1. Discuss with your guide & submit the abstract in the given format only (Already Format Shared long back).\\n\\n2. If any batch is fail to submit in mentioned deadline we are not going to conduct First Review. \\n\\nProject In-Charge\\n'}\n",
            "{'datetime': '03/12/19, 12:12 pm', 'user': '+91 94410 30645', 'isMessage': True, 'message': ' Main Project Abstract Submission reminder ...\\n'}\n",
            "{'datetime': '07/12/19, 3:33 pm', 'user': '+91 94410 30645', 'isMedia': True}\n",
            "{'datetime': '07/12/19, 5:32 pm', 'isAction': True, 'action': '+971 56 848 5686 left\\n'}\n",
            "{'datetime': '12/12/19, 12:02 pm', 'user': '+91 94410 30645', 'isMessage': True, 'message': \" All the IV Year  B.Tech CSE student's it is informing you that\\n\\n\\n1. Main Project Abstract should submit by 13-12-2019, (3PM)\\n\\n\\n2. Closing of Registration of Electives by 13-12-2019, (9AM)\\n\\n\\nNote: There is no excuse if any student failing to submit abstract and Registration of  elective.\\n\\n\\nIt's a final call.\\n\"}\n",
            "{'datetime': '13/12/19, 9:43 am', 'isAction': True, 'action': '+91 81071 98887 left\\n'}\n",
            "{'datetime': '27/12/19, 9:20 am', 'user': '+91 94410 30645', 'isMessage': True, 'message': ' Dear Students of IV B. Tech II Semester it is informing you that Main Project Review-1 is scheduled on 28-12-2019 (Saturday) 9\\nCSE-A : Absent Students from the Batch & Remaining batches\\nCSE-B : Absent Students from the Batch & Remaining batches\\nCSE-C : All the Batches  & Complete the Review-1\\nCSE-D : All the Batches  & Complete the Review-1\\n\\nNote-1: from (CSE-A & B) already some batches completed Review-1\\nNote-2: Its a final schedule for Review-1.\\n\\n\\nIf any Queries Contact Main Project Coordinators:\\nCSE-A : C Satya Kumat, Asst. Professor\\nCSE-B : B Suresh Kumar, Asst. Professor\\nCSE-C : V Uma Maheswari, Asst. Professor\\nCSE-D : Dr K Prabhakar, Assoc. Professor\\n\\nThank u.\\n'}\n",
            "{'datetime': '27/12/19, 9:20 am', 'isAction': True, 'action': '+91 94410 30645 changed the subject from \"CSE B lV YEAR\" to \"CSE B(2016-20) lV YEAR\"\\n'}\n",
            "{'datetime': '01/01/20, 12:39 am', 'user': '+91 94410 30645', 'isMedia': True}\n",
            "{'datetime': '01/01/20, 7:32 am', 'user': '+91 99127 54470', 'isMedia': True}\n",
            "{'datetime': '01/01/20, 7:47 am', 'user': '+91 99127 54470', 'isMessage': True, 'message': ' This message was deleted\\n'}\n",
            "{'datetime': '01/01/20, 7:47 am', 'user': '+91 99127 54470', 'isMessage': True, 'message': ' This message was deleted\\n'}\n",
            "{'datetime': '02/01/20, 2:51 pm', 'isAction': True, 'action': 'Sankya left\\n'}\n",
            "{'datetime': '06/01/20, 9:35 am', 'user': '+91 94410 30645', 'isMessage': True, 'message': ' The Following Batches not yet \\nFilled Project Catalog, pls \\nfill immediately, Thank u\\n16CC-B2\\n16CC-B3\\n16CC-B4\\n16DS-B5\\n16DS-B6\\n16DS-B7\\n16DS-B8\\n16DS-B10\\n16SAP-B11\\n16SAP-B13\\n16SAP-B14\\n16SAP-B15\\n'}\n",
            "{'datetime': '06/01/20, 11:22 pm', 'user': '+91 94410 30645', 'isMessage': True, 'message': ' The Following Batches not yet \\nFilled Project Catalog, pls \\nfill immediately, Thank u\\n16DS-B5\\n16DS-B8\\n16DS-B10\\n16SAP-B13\\n16SAP-B14\\n16SAP-B15\\n'}\n",
            "{'datetime': '07/01/20, 10:33 am', 'user': '+91 94410 30645', 'isMessage': True, 'message': ' The Following Batche not yet Filled Project Catalog, pls fill immediately, Thank u\\n\\n16SAP-B14\\n'}\n",
            "{'datetime': '07/01/20, 1:57 pm', 'user': '+91 94410 30645', 'isMessage': True, 'message': ' All the Batches Submitted, Thank u\\n'}\n",
            "{'datetime': '10/01/20, 6:22 am', 'isAction': True, 'action': '+91 94940 99666 left\\n'}\n",
            "{'datetime': '21/01/20, 11:58 am', 'isAction': True, 'action': 'Sanjana_V added Sankya\\n'}\n",
            "{'datetime': '31/01/20, 6:31 pm', 'user': '+91 94410 30645', 'isMessage': True, 'message': ' There is mistake in this mail ids\\njammula678@gmail.com, kushalrao1980@gmail.com, hshivakumartadakamalla@gmail.com\\n'}\n",
            "{'datetime': '01/02/20, 10:54 am', 'user': '+91 96768 85087', 'isMessage': True, 'message': ' shivakumar.thadakamalla@gmail.com\\n'}\n",
            "{'datetime': '01/02/20, 11:33 am', 'user': 'BlueBrain \\U0001f9e0 => 💻', 'isMessage': True, 'message': ' jammulanithya97@gmail.com\\n'}\n",
            "{'datetime': '04/02/20, 1:30 pm', 'user': '+91 94410 30645', 'isMedia': True}\n",
            "{'datetime': '04/02/20, 1:30 pm', 'user': '+91 94410 30645', 'isMessage': True, 'message': ' Pls Check Batch wise Detailed Schedule of Main Project Review-2. All the Best. Thank u.\\n'}\n",
            "{'datetime': '04/02/20, 2:05 pm', 'user': '+91 94410 30645', 'isMedia': True}\n",
            "{'datetime': '07/02/20, 2:15 pm', 'user': '+91 94410 30645', 'isMessage': True, 'message': \" 561 to  580 anyone registered for *JAN-JUNE 2020* NPTEL.??? Just Reply Here. \\nMention your roll number and if not enrolled mention the reason. It's most urgent.\\n\"}\n",
            "{'datetime': '13/02/20, 9:42 am', 'user': '+91 94410 30645', 'isMessage': True, 'message': ' Dear Students, You can download Main Project Formats and Review Schedules through this\\nLink: http://infocse.byethost6.com/\\n\\nIf any queries pls inform me\\nThank u\\n'}\n",
            "{'datetime': '13/02/20, 9:50 am', 'user': '+91 70362 32555', 'isMessage': True, 'message': ' Sir for cse b review has been completed\\n'}\n",
            "{'datetime': '21/02/20, 8:56 am', 'user': '+91 95152 26874', 'isMessage': True, 'message': ' https'}\n",
            "{'datetime': '24/02/20, 3:37 pm', 'user': '+91 94410 30645', 'isMedia': True}\n",
            "{'datetime': '24/02/20, 3:46 pm', 'user': '+91 94410 30645', 'isMessage': True, 'message': ' You can download Main Project documentation Format through this\\nLink: http://infocse.byethost6.com\\n\\nIf any queries pls inform me\\nThank u\\n'}\n",
            "{'datetime': '02/03/20, 9:19 pm', 'user': '+91 94410 30645', 'isMessage': True, 'message': ' Dear IV B. Tech CSE\\nSub: Submission of number of Main project books along CD\\nNote-1:\\nIf your team size is : 3 \\nGroup wise Books =3 \\nIndividual = 3\\nTotal Books=6\\n\\nNote-2:\\nIf your Team Size is : 4\\nGroup wise Books=3\\nIndividual is =4\\nTotal Books=7\\n\\nNote-3:  Submit three (3) copies of Project Diary \\n1. December -2019 to January-2020\\n2. February-2020 \\n3. March-2020\\n\\nDownload formats:  http://infocse.byethost6.com\\n\\nNote: Inside CD (Abstract, Main Document, Final PPT, Source Code Folder)\\nIf any queries contact.\\n'}\n",
            "{'datetime': '02/03/20, 9:58 pm', 'user': '+91 99636 58876', 'isMessage': True, 'message': ' http'}\n",
            "{'datetime': '03/03/20, 5:06 pm', 'isAction': True, 'action': 'Ajith left\\n'}\n",
            "{'datetime': '04/03/20, 9:10 am', 'user': '+91 95152 26874', 'isMessage': True, 'message': ' https'}\n",
            "{'datetime': '12/03/20, 12:17 pm', 'user': '+91 94410 30645', 'isMedia': True}\n",
            "{'datetime': '12/03/20, 12:17 pm', 'user': '+91 94410 30645', 'isMedia': True}\n",
            "{'datetime': '12/03/20, 3:37 pm', 'user': '+91 94410 30645', 'isMessage': True, 'message': ' Final Project Title Enter Here'}\n",
            "{'datetime': '13/03/20, 1:20 pm', 'user': '+91 94410 30645', 'isMedia': True}\n",
            "{'datetime': '13/03/20, 1:26 pm', 'user': '+91 94410 30645', 'isMessage': True, 'message': ' Information to Project Coordinatorshorp on March-21, 2020 (Saturday)\\n2. Come with your own laptops with project \\nexecution\\n3. Bring if any Hardware, related to your project\\n4. Download the Template and Modify according to \\nyour project\\n5. Color Flexi Print with size (3x2)\\n6. Prepare 2 to 5 minutes Video of your project\\n7. Final PPT\\n\\nCoordinator Main Projects\\nThank u\\n'}\n",
            "{'datetime': '18/03/20, 1:17 pm', 'user': '+91 94410 30645', 'isMessage': True, 'message': ' Dear Students of IV B. Tech CSE, \\nsend GATE Rank card to this Mail id: s.venugopal@vardhaman.org\\nThank u\\n'}\n",
            "{'datetime': '26/03/20, 2:49 pm', 'user': '+91 94410 30645', 'isMessage': True, 'message': ' Dear students,\\nStay home,stay safe and maintain social distancing.\\nThis is one stop Mobile Application for all CSE department course materials.\\nKindly download and install App using the below  link and start accessing it.\\nhttp://tiny.cc/CSENotesApp\\n\\nShare this among your student groups.\\nThanq\\n'}\n",
            "{'datetime': '04/04/20, 9:21 pm', 'isAction': True, 'action': 'Pavan added Ajith\\n'}\n",
            "{'datetime': '06/04/20, 6:04 pm', 'user': '+91 94410 30645', 'isMessage': True, 'message': ' Dear  students. Prepare two minutes video of your Project and upload through this link'}\n",
            "{'datetime': '07/04/20, 9:59 pm', 'user': '+91 94410 30645', 'isMessage': True, 'message': ' Sample Main Project two minutes video \\nAlready one Batch Uploaded you can view Here\\nInstall the CSENotes App: http://tiny.cc/CSENotesApp\\nDesktop (Browser) website link: https://5bpat.glideapp.io\\n'}\n",
            "{'datetime': '07/04/20, 10:05 pm', 'user': '+91 94410 30645', 'isMessage': True, 'message': ' Batch wise videos u can view here...  so, submit at the earliest. Thank you All\\n'}\n",
            "{'datetime': '07/04/20, 10:09 pm', 'user': '+91 94410 30645', 'isMessage': True, 'message': ' With your guide permission only submit the video.\\n'}\n",
            "{'datetime': '07/04/20, 10:31 pm', 'user': '+91 94410 30645', 'isMessage': True, 'message': ' Project Vide Clip Name Should be  Your Batch Id\\n'}\n",
            "{'datetime': '08/04/20, 10:31 am', 'user': '+91 94410 30645', 'isMessage': True, 'message': ' Mainly project execution video..\\n'}\n",
            "{'datetime': '08/04/20, 1:22 pm', 'user': '+91 94410 30645', 'isMessage': True, 'message': ' Best Screen Recording tools1.   iSpring Free Cam ...\\n2. Bandicam  \\n3. icecream screen recorder\\n'}\n",
            "{'datetime': '09/04/20, 8:07 am', 'user': '+91 94410 30645', 'isMessage': True, 'message': ' Dear students keep your soft copy of Main Project Final PPT & Documentation(Including cover page, declaration .......etc.) you have to upload which I am going to share Google from today 11am, upload by today 6PM. Thank u.\\n'}\n",
            "{'datetime': '09/04/20, 10:14 am', 'user': '+91 94410 30645', 'isMessage': True, 'message': ' Submit\\nDear Student (IV B. Tech CSE)\\nIt is informing you that anyone from the Batch should upload the following by filling the given form.\\n1. Final Main Project PPT (File Name should be Batch Id_Project title)\\n2. Final Project Full Document (File Name should be Batch Id_Project Title)\\n\\nLink: https://forms.gle/wWk48E3tuN9A6wnU6\\n\\nSubmit on ro before 10-04-2020, 11AM. \\n\\nThank you.\\n'}\n",
            "{'datetime': '09/04/20, 10:59 am', 'user': '+91 99127 54470', 'isMessage': True, 'message': ' Dear Sir / Madam,\\nPlease share the information with other Faculty Members & Students on FREE Courses on Coursera for Campus: Coursera?s Coronavirus Response Initiative available @www.aicte-india.org/sites/default/files/CIRCULAR_COURSERA.pdf\\n\\nAICTE\\n'}\n",
            "{'datetime': '09/04/20, 11:50 pm', 'user': '+91 94410 30645', 'isMessage': True, 'message': ' Only These Batches Uploaded Project Videos16CC-B2\\n\\n16DS-A7\\n\\n16DS-B6\\n\\n16CC-A1\\n\\n16CS-D15\\n\\n16SAP-A17\\n'}\n",
            "{'datetime': '10/04/20, 10:26 am', 'user': '+91 99636 58876', 'isMessage': True, 'message': ' https'}\n",
            "{'datetime': '10/04/20, 10:26 am', 'user': '+91 99636 58876', 'isMessage': True, 'message': ' Here is a popular course giveaway\\n'}\n",
            "{'datetime': '10/04/20, 10:26 am', 'user': '+91 99636 58876', 'isMessage': True, 'message': ' Enroll fast\\n'}\n",
            "{'datetime': '10/04/20, 10:27 am', 'user': 'Poojitha', 'isMessage': True, 'message': ' Okieeee\\n'}\n",
            "{'datetime': '10/04/20, 10:30 am', 'user': '+91 99636 58876', 'isMessage': True, 'message': ' https'}\n",
            "{'datetime': '10/04/20, 10:30 am', 'user': '+91 99636 58876', 'isMessage': True, 'message': ' For people interested in R\\n'}\n",
            "{'datetime': '11/04/20, 6:59 am', 'user': '+91 94410 30645', 'isMessage': True, 'message': ' Only these batches uploaded project videos16CC-B2\\n16DS-A7\\n16DS-B6\\n16CC-A1\\n16CS-D15\\n16SAP-A17\\n161MG-D16\\n16CC-B1\\n16DS-A8\\n16DS-D7\\n16DS-B8\\n16IMG-C14\\n16DS-D6\\n'}\n",
            "{'datetime': '11/04/20, 3:32 pm', 'user': '+91 94410 30645', 'isMedia': True}\n",
            "{'datetime': '11/04/20, 10:12 pm', 'user': '+91 94410 30645', 'isMessage': True, 'message': ' Dear  students tomorrow is tha last date i.e 12-04-2020, to submit Main Project Final PPT, Document and Video. So, that all the faculty can view. Thank you\\n'}\n",
            "{'datetime': '12/04/20, 12:51 pm', 'user': '+91 94410 30645', 'isMedia': True}\n",
            "{'datetime': '12/04/20, 5:41 pm', 'user': '+91 95732 28032', 'isMessage': True, 'message': \" Good evening sir\\nThe form is not supporting PDF files\\nThe problem with uploading a word file is that the alignment in different Office versions is changing drastically and it's looking awkward\\n\"}\n",
            "{'datetime': '12/04/20, 5:43 pm', 'user': '+91 95732 28032', 'isMessage': True, 'message': \" Also my presentation is in the form of a PDF\\nI'm unable to upload that as well\\n\"}\n",
            "{'datetime': '12/04/20, 6:27 pm', 'user': '+91 94410 30645', 'isMedia': True}\n",
            "{'datetime': '12/04/20, 10:44 pm', 'user': '+91 94410 30645', 'isMedia': True}\n",
            "{'datetime': '13/04/20, 2:56 pm', 'user': '+91 94410 30645', 'isMessage': True, 'message': ' hanking you All,\\nDear Students of IV B. TECH CSE\\nAll the Project Videos are live now in the Mobile App / Desktop (Browser) Link.\\n\\nCSE Notes Mobile App Link: http://tiny.cc/CSENotesApp\\nDesktop (Browser) website link: https://5bpat.glideapp.io\\n\\nThank you for your cooperation & Dedication.\\n'}\n",
            "{'datetime': '17/04/20, 12:48 pm', 'user': '+91 94410 30645', 'isMessage': True, 'message': ' IEEE R10 UNDERGRADUATE PROJECT VIDEO CONTEST\\n \\nThe IEEE R10 Undergraduate Project Video Contest aims to improve the engineering students’ communication and presentation skills to a wider online viewing community, which may include technical and non-technical audience.\\n\\nAll undergraduate students under IEEE Region 10 are invited to submit entries for this contest.\\nThe submission deadline is 30 May 2020\\n\\nFor more information please visit: https://sac.ieeer10.org/ieee-r10-undergraduate-project-video-contest/ \\n\\nThe winners will be awarded with the following cash prizes and E-certificate:\\nFirst place: USD 300\\nSecond place: USD 200\\nThird place: USD 100\\nWIE Prize: USD 200\\n\\nSection Chairs and section Student Activities Committee Chairs are requested to support the contest by encouraging student members to participate in the IEEE R10 SAC Undergraduate Project Video Contest.\\n\\nFor inquiries please contact: R10 Student Activities Committee (r10sac@ieee.org)\\n'}\n",
            "{'datetime': '17/04/20, 1:03 pm', 'user': '+91 99127 54470', 'isMessage': True, 'message': ' Madam Share This Link '}\n",
            "{'datetime': '17/04/20, 1:12 pm', 'user': '+91 99127 54470', 'isMessage': True, 'message': ' Hi everyone!!! If  any one have merit/ participation certificates ,plz fill your data in above mention link Tq.\\n'}\n",
            "{'datetime': '17/04/20, 1:20 pm', 'user': '+91 94410 30645', 'isMessage': True, 'message': ' Madam Share This Link '}\n",
            "{'datetime': '17/04/20, 1:20 pm', 'user': '+91 94410 30645', 'isMessage': True, 'message': ' Hi everyone!!! If  any one have merit/ participation certificates ,plz fill your data in above mention link Tq.\\n'}\n",
            "{'datetime': '21/04/20, 10:00 am', 'isAction': True, 'action': '+91 88977 66630 added +91 80566 09925\\n'}\n",
            "{'datetime': '22/04/20, 9:55 am', 'user': '+91 80566 09925', 'isMessage': True, 'message': \" Sidhu S is inviting you to a scheduled Zoom meeting.\\n\\nTopic: Sidhu S's Personal Meeting Room\\n\\nJoin Zoom Meeting\\nhttps://us04web.zoom.us/j/4656209276\\n\\nMeeting ID: 465 620 9276\\n\"}\n",
            "{'datetime': '22/04/20, 9:57 am', 'user': '+91 80566 09925', 'isMessage': True, 'message': ' Not just cyber security, from today I’ll give some basic training on ethical hacking. I’ll give you some tasks and you perform it consistently. So that at the end you can go for some certification. Use this wisely.\\n'}\n",
            "{'datetime': '22/04/20, 10:06 am', 'user': '+91 80566 09925', 'isMessage': True, 'message': ' Class starts at 3PM\\n'}\n"
          ],
          "name": "stdout"
        }
      ]
    },
    {
      "cell_type": "code",
      "metadata": {
        "id": "eDXBlQFfZbDT",
        "colab_type": "code",
        "colab": {}
      },
      "source": [
        ""
      ],
      "execution_count": 0,
      "outputs": []
    }
  ]
}