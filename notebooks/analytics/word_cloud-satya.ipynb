{
  "nbformat": 4,
  "nbformat_minor": 0,
  "metadata": {
    "colab": {
      "name": "Word_generator_from_Dataframe.ipynb",
      "provenance": [],
      "include_colab_link": true
    },
    "kernelspec": {
      "name": "python3",
      "display_name": "Python 3"
    }
  },
  "cells": [
    {
      "cell_type": "markdown",
      "metadata": {
        "id": "view-in-github",
        "colab_type": "text"
      },
      "source": [
        "<a href=\"https://colab.research.google.com/github/SriSatyaLokesh/some-app-for-whatsapp/blob/master/notebooks/analytics/word_cloud-satya.ipynb\" target=\"_parent\"><img src=\"https://colab.research.google.com/assets/colab-badge.svg\" alt=\"Open In Colab\"/></a>"
      ]
    },
    {
      "cell_type": "code",
      "metadata": {
        "id": "JtiC_gTZ_gqu",
        "colab_type": "code",
        "outputId": "bed22032-d1d5-4220-d1a5-cfeca24ca6ed",
        "colab": {
          "resources": {
            "http://localhost:8080/nbextensions/google.colab/files.js": {
              "data": "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",
              "ok": true,
              "headers": [
                [
                  "content-type",
                  "application/javascript"
                ]
              ],
              "status": 200,
              "status_text": ""
            }
          },
          "base_uri": "https://localhost:8080/",
          "height": 74
        }
      },
      "source": [
        "from google.colab import files\n",
        "uploaded = files.upload()"
      ],
      "execution_count": 2,
      "outputs": [
        {
          "output_type": "display_data",
          "data": {
            "text/html": [
              "\n",
              "     <input type=\"file\" id=\"files-475e2fa4-7de6-4a9d-8386-d9bdd7d75414\" name=\"files[]\" multiple disabled />\n",
              "     <output id=\"result-475e2fa4-7de6-4a9d-8386-d9bdd7d75414\">\n",
              "      Upload widget is only available when the cell has been executed in the\n",
              "      current browser session. Please rerun this cell to enable.\n",
              "      </output>\n",
              "      <script src=\"/nbextensions/google.colab/files.js\"></script> "
            ],
            "text/plain": [
              "<IPython.core.display.HTML object>"
            ]
          },
          "metadata": {
            "tags": []
          }
        },
        {
          "output_type": "stream",
          "text": [
            "Saving WhatsApp Chat with CSE 2K16-2K20.txt to WhatsApp Chat with CSE 2K16-2K20.txt\n"
          ],
          "name": "stdout"
        }
      ]
    },
    {
      "cell_type": "code",
      "metadata": {
        "id": "BO5MmFR4_z2f",
        "colab_type": "code",
        "outputId": "b09d3fc1-708f-474c-8960-b9b58b7a35c3",
        "colab": {
          "base_uri": "https://localhost:8080/",
          "height": 759
        }
      },
      "source": [
        "import pandas as pd\n",
        "from itertools import chain, repeat\n",
        "from string import digits\n",
        "import re\n",
        "\n",
        "chainer = chain.from_iterable\n",
        "class Cleaner:\n",
        "  def __init__(self,filename):\n",
        "    self.filename = filename\n",
        "\n",
        "  def _clean_data(self):\n",
        "    \"\"\" \n",
        "    What it does?\n",
        "    ----------------\n",
        "      remove action messages and append new line without date format to previous message\n",
        "      \n",
        "      EXAMPLE : \n",
        "      17/07/19, 8:33 pm - +91 90633 88499: Sir,\n",
        "      *We have a chance to write Cocubes exam later...?*\n",
        "      CHANGED TO:\n",
        "      17/07/19, 8:33 pm - +91 90633 88499: Sir, *We have a chance to write Cocubes exam later...?*\n",
        "      \n",
        "      Parameters:\n",
        "      -----------\n",
        "      df : dataframe\n",
        "          \n",
        "      Returns:\n",
        "      --------\n",
        "      raw_texts : list\n",
        "                  list consists of all raw messages ignoring actions from the chat file\n",
        "      \n",
        "    \"\"\"\n",
        "    chat_file = self.filename\n",
        "    with open(chat_file) as file:\n",
        "      all_msgs = file.readlines()\n",
        "      raw_texts = []\n",
        "      for line in all_msgs:\n",
        "        if re.match(\"^\\d{2}/\\d{2}/\\d{2,4},\\s\\d{1,2}:\\d{2}\\s[ap]*[m]*\",line):\n",
        "          date_split = line.split(' - ') \n",
        "          user_split = date_split[1].split(':')\n",
        "          if len(user_split) >= 2:\n",
        "            raw_texts.append(line)\n",
        "        else:\n",
        "          try:\n",
        "            raw_texts[-1] += line\n",
        "          except Exception as err:\n",
        "            print(line,raw_texts)\n",
        "            print(err)\n",
        "\n",
        "    return raw_texts \n",
        "      \n",
        "  def _get_data(self):\n",
        "    \"\"\" \n",
        "    What it does?\n",
        "    ----------------\n",
        "      Import whatsapp data and transform it to a dataframe\n",
        "      \n",
        "      Parameters:\n",
        "      -----------\n",
        "      -\n",
        "          \n",
        "      Returns:\n",
        "      --------\n",
        "      df : dataframe\n",
        "          Dataframe of all messages with columns - [\"users\", \"raw_text\"]\n",
        "      \n",
        "    \"\"\"\n",
        "    raw_texts = self._clean_data()\n",
        "    raw_messages = dict()\n",
        "    for line in raw_texts:\n",
        "      date_split = line.split(' - ')\n",
        "      user_split = date_split[1].split(':')\n",
        "      user = user_split[0]\n",
        "      if user not in raw_messages:\n",
        "        raw_messages[user] = [line]\n",
        "      else:\n",
        "        raw_messages[user].append(line)\n",
        "    df = pd.DataFrame({'user': list(chainer(repeat(k, len(v)) for k,v in raw_messages.items())),\n",
        "                   'raw_text': list(chainer(raw_messages.values()))}) \n",
        "    return df\n",
        "\n",
        "  def _get_message(self,df):\n",
        "    \"\"\" \n",
        "    What it does?\n",
        "    ----------------\n",
        "      new column is added to existing dataframe i.e clean_message which ignores datetime and user from the raw_message\n",
        "      \n",
        "      Parameters:\n",
        "      -----------\n",
        "      df : dataframe\n",
        "          \n",
        "      Returns:\n",
        "      --------\n",
        "      df : dataframe\n",
        "          Dataframe of all messages with columns - [\"users\", \"raw_text\", \"raw_message\",]\n",
        "      \n",
        "    \"\"\"\n",
        "    df[\"raw_message\"] = df.apply(lambda df : \"\".join(df['raw_text'].split(\":\")[2:]),axis=1)\n",
        "    df[\"raw_message\"] = df.apply(lambda df : df['raw_message'][:-1],axis=1)\n",
        "    return df\n",
        "\n",
        "  def _get_text_only_message(self,df):\n",
        "    \"\"\" \n",
        "    What it does?\n",
        "    ----------------\n",
        "      new column is added to existing dataframe i.e text_only_message which ignores all emojis and numbers from the clean_message\n",
        "      \n",
        "      Parameters:\n",
        "      -----------\n",
        "      df : dataframe\n",
        "          \n",
        "      Returns:\n",
        "      --------\n",
        "      df : dataframe\n",
        "          Dataframe of all messages with columns - [\"users\", \"raw_text\", \"raw_message\", \"text_only_message\"]\n",
        "      \n",
        "    \"\"\"\n",
        "    remove_digits = str.maketrans('', '', digits)\n",
        "    df[\"text_only_message\"] = df.apply(lambda df : df[\"raw_message\"].encode('ascii', 'ignore').decode('ascii'),axis=1)     # removing emoji s from cleam_message\n",
        "    df[\"text_only_message\"] = df.apply(lambda df : df[\"text_only_message\"].translate(remove_digits),axis=1)          # removing digits from clean_message\n",
        "\n",
        "    df.loc[(df['text_only_message'] == \" This message was deleted\") | (df['text_only_message'] == \" <Media omitted>\"),'text_only_message'] = \"\" # updating \"This message was deleted\" & \"media\" to \"\"(empty_string)\n",
        "\n",
        "    return df\n",
        "\n",
        "  def _remove_inactive_users(self,df):\n",
        "    \"\"\" \n",
        "    What it does?\n",
        "    ----------------\n",
        "      removes inactive users i.e user with no of messages < 10 from dataframe\n",
        "      \n",
        "      Parameters:\n",
        "      -----------\n",
        "      df : dataframe\n",
        "          \n",
        "      Returns:\n",
        "      --------\n",
        "      df : dataframe\n",
        "          Dataframe of all messages with columns - [\"users\", \"raw_text\", \"raw_message\", \"text_only_message\"]\n",
        "          removing inactive users\n",
        "      \n",
        "    \"\"\"\n",
        "    df = df.groupby('user').filter(lambda x : len(x) > 10)\n",
        "    return df\n",
        "\n",
        "  def _get_user_media_counts(self,df):\n",
        "    \"\"\" \n",
        "    What it does?\n",
        "    ----------------\n",
        "      it counts individual user media that is sent in the chat\n",
        "      \n",
        "      Parameters:\n",
        "      -----------\n",
        "      df : dataframe\n",
        "          \n",
        "      Returns:\n",
        "      --------\n",
        "      user_media_counts : dictionary\n",
        "                          key as 'user' : value as 'media_count'\n",
        "      \n",
        "    \"\"\"\n",
        "    media_count = df[df['raw_message'] == \" <Media omitted>\"].groupby('user').size()\n",
        "    user_media_counts = media_count.to_dict()\n",
        "    return user_media_counts\n",
        "\n",
        "  def _get_datetime(self,df):\n",
        "    \"\"\" \n",
        "    What it does?\n",
        "    ----------------\n",
        "      3 columns are added i.e \n",
        "      \n",
        "      1. \"date\" : datetime from raw_text\n",
        "      2. \"hour\" : Hour from date column\n",
        "      3. \"weekday\" : day of the week from date column \n",
        "      \n",
        "      Parameters:\n",
        "      -----------\n",
        "      df : dataframe\n",
        "          \n",
        "      Returns:\n",
        "      --------\n",
        "      df : dataframe\n",
        "          Dataframe with only active user messages with columns - [\"users\", \"raw_text\", \"raw_message\", \"text_only_message\", \"date\", \"hour\", \"weekday\"]\n",
        "      \n",
        "    \"\"\"\n",
        "\n",
        "    df['date'] =  df.apply(lambda df : df['raw_text'].split(\" - \")[0],axis=1)\n",
        "\n",
        "    temp = [\"%d/%m/%Y, %I:%M %p\" , \"%d/%m/%y, %I:%M %p\" , \"%d/%m/%Y, %H:%M\" , \"%d/%m/%y, %H:%M\" ,\n",
        "        \"%d/%Y/%m, %I:%M %p\" , \"%d/%y/%m, %I:%M %p\" , \"%d/%Y/%m, %H:%M\" , \"%d/%y/%m, %H:%M\" ,\n",
        "        \"%Y/%m/%d, %I:%M %p\" , \"%y/%m/%d, %I:%M %p\" , \"%Y/%m/%d, %H:%M\" , \"%y/%m/%d, %H:%M\" ,\n",
        "        \"%Y/%d/%m, %I:%M %p\" , \"%y/%d/%m, %I:%M %p\" , \"%Y/%d/%m, %H:%M\" , \"%y/%d/%m, %H:%M\" ,\n",
        "        \"%m/%Y/%d, %I:%M %p\" , \"%m/%y/%d, %I:%M %p\" , \"%m/%Y/%d, %H:%M\" , \"%m/%y/%d, %H:%M\" ,\n",
        "        \"%m/%d/%Y, %I:%M %p\" , \"%m/%d/%y, %I:%M %p\" , \"%m/%d/%Y, %H:%M\" , \"%m/%d/%y, %H:%M\"]\n",
        "\n",
        "    for formats in temp:       \n",
        "      try:\n",
        "        df['date'] = pd.to_datetime(df['date'], format=formats)\n",
        "      except:\n",
        "        continue\n",
        "    df['hour'] = df['date'].dt.hour\n",
        "    df['weekday'] = df['date'].dt.weekday\n",
        "    \n",
        "    return df\n",
        "\n",
        "chat_file = 'WhatsApp Chat with CSE 2K16-2K20.txt'\n",
        "clean = Cleaner(chat_file)\n",
        "df = clean._get_data()\n",
        "df = clean._get_message(df)\n",
        "df = clean._get_text_only_message(df)\n",
        "df = clean._remove_inactive_users(df)\n",
        "df = clean._get_datetime(df)\n",
        "df"
      ],
      "execution_count": 3,
      "outputs": [
        {
          "output_type": "execute_result",
          "data": {
            "text/html": [
              "<div>\n",
              "<style scoped>\n",
              "    .dataframe tbody tr th:only-of-type {\n",
              "        vertical-align: middle;\n",
              "    }\n",
              "\n",
              "    .dataframe tbody tr th {\n",
              "        vertical-align: top;\n",
              "    }\n",
              "\n",
              "    .dataframe thead th {\n",
              "        text-align: right;\n",
              "    }\n",
              "</style>\n",
              "<table border=\"1\" class=\"dataframe\">\n",
              "  <thead>\n",
              "    <tr style=\"text-align: right;\">\n",
              "      <th></th>\n",
              "      <th>user</th>\n",
              "      <th>raw_text</th>\n",
              "      <th>raw_message</th>\n",
              "      <th>text_only_message</th>\n",
              "      <th>date</th>\n",
              "      <th>hour</th>\n",
              "      <th>weekday</th>\n",
              "    </tr>\n",
              "  </thead>\n",
              "  <tbody>\n",
              "    <tr>\n",
              "      <th>0</th>\n",
              "      <td>+91 81432 75536</td>\n",
              "      <td>12/10/2019, 11:21 am - +91 81432 75536: Remain...</td>\n",
              "      <td>Remainder</td>\n",
              "      <td>Remainder</td>\n",
              "      <td>2019-10-12 11:21:00</td>\n",
              "      <td>11</td>\n",
              "      <td>5</td>\n",
              "    </tr>\n",
              "    <tr>\n",
              "      <th>1</th>\n",
              "      <td>+91 81432 75536</td>\n",
              "      <td>25/10/2019, 3:30 pm - +91 81432 75536: &lt;Media ...</td>\n",
              "      <td>&lt;Media omitted&gt;</td>\n",
              "      <td></td>\n",
              "      <td>2019-10-25 15:30:00</td>\n",
              "      <td>15</td>\n",
              "      <td>4</td>\n",
              "    </tr>\n",
              "    <tr>\n",
              "      <th>2</th>\n",
              "      <td>+91 81432 75536</td>\n",
              "      <td>25/10/2019, 3:30 pm - +91 81432 75536: &lt;Media ...</td>\n",
              "      <td>&lt;Media omitted&gt;</td>\n",
              "      <td></td>\n",
              "      <td>2019-10-25 15:30:00</td>\n",
              "      <td>15</td>\n",
              "      <td>4</td>\n",
              "    </tr>\n",
              "    <tr>\n",
              "      <th>3</th>\n",
              "      <td>+91 81432 75536</td>\n",
              "      <td>25/10/2019, 3:33 pm - +91 81432 75536: Dear st...</td>\n",
              "      <td>Dear students these are shortlisted candidate...</td>\n",
              "      <td>Dear students these are shortlisted candidate...</td>\n",
              "      <td>2019-10-25 15:33:00</td>\n",
              "      <td>15</td>\n",
              "      <td>4</td>\n",
              "    </tr>\n",
              "    <tr>\n",
              "      <th>4</th>\n",
              "      <td>+91 81432 75536</td>\n",
              "      <td>25/10/2019, 3:38 pm - +91 81432 75536: The sho...</td>\n",
              "      <td>The shortlisted students for Hitachi consulti...</td>\n",
              "      <td>The shortlisted students for Hitachi consulti...</td>\n",
              "      <td>2019-10-25 15:38:00</td>\n",
              "      <td>15</td>\n",
              "      <td>4</td>\n",
              "    </tr>\n",
              "    <tr>\n",
              "      <th>...</th>\n",
              "      <td>...</td>\n",
              "      <td>...</td>\n",
              "      <td>...</td>\n",
              "      <td>...</td>\n",
              "      <td>...</td>\n",
              "      <td>...</td>\n",
              "      <td>...</td>\n",
              "    </tr>\n",
              "    <tr>\n",
              "      <th>318</th>\n",
              "      <td>+91 99126 48686</td>\n",
              "      <td>15/04/2020, 10:19 am - +91 99126 48686: Guys l...</td>\n",
              "      <td>Guys last 2 minutes</td>\n",
              "      <td>Guys last  minutes</td>\n",
              "      <td>2020-04-15 10:19:00</td>\n",
              "      <td>10</td>\n",
              "      <td>2</td>\n",
              "    </tr>\n",
              "    <tr>\n",
              "      <th>319</th>\n",
              "      <td>+91 99126 48686</td>\n",
              "      <td>15/04/2020, 10:19 am - +91 99126 48686: Exam w...</td>\n",
              "      <td>Exam will closes</td>\n",
              "      <td>Exam will closes</td>\n",
              "      <td>2020-04-15 10:19:00</td>\n",
              "      <td>10</td>\n",
              "      <td>2</td>\n",
              "    </tr>\n",
              "    <tr>\n",
              "      <th>320</th>\n",
              "      <td>+91 99126 48686</td>\n",
              "      <td>15/04/2020, 10:30 am - +91 99126 48686: &lt;Media...</td>\n",
              "      <td>&lt;Media omitted&gt;</td>\n",
              "      <td></td>\n",
              "      <td>2020-04-15 10:30:00</td>\n",
              "      <td>10</td>\n",
              "      <td>2</td>\n",
              "    </tr>\n",
              "    <tr>\n",
              "      <th>321</th>\n",
              "      <td>+91 99126 48686</td>\n",
              "      <td>15/04/2020, 10:38 am - +91 99126 48686: &lt;Media...</td>\n",
              "      <td>&lt;Media omitted&gt;</td>\n",
              "      <td></td>\n",
              "      <td>2020-04-15 10:38:00</td>\n",
              "      <td>10</td>\n",
              "      <td>2</td>\n",
              "    </tr>\n",
              "    <tr>\n",
              "      <th>322</th>\n",
              "      <td>+91 99126 48686</td>\n",
              "      <td>15/04/2020, 10:39 am - +91 99126 48686: assign...</td>\n",
              "      <td>assignment marks those who submitted through ...</td>\n",
              "      <td>assignment marks those who submitted through ...</td>\n",
              "      <td>2020-04-15 10:39:00</td>\n",
              "      <td>10</td>\n",
              "      <td>2</td>\n",
              "    </tr>\n",
              "  </tbody>\n",
              "</table>\n",
              "<p>229 rows × 7 columns</p>\n",
              "</div>"
            ],
            "text/plain": [
              "                user  ... weekday\n",
              "0    +91 81432 75536  ...       5\n",
              "1    +91 81432 75536  ...       4\n",
              "2    +91 81432 75536  ...       4\n",
              "3    +91 81432 75536  ...       4\n",
              "4    +91 81432 75536  ...       4\n",
              "..               ...  ...     ...\n",
              "318  +91 99126 48686  ...       2\n",
              "319  +91 99126 48686  ...       2\n",
              "320  +91 99126 48686  ...       2\n",
              "321  +91 99126 48686  ...       2\n",
              "322  +91 99126 48686  ...       2\n",
              "\n",
              "[229 rows x 7 columns]"
            ]
          },
          "metadata": {
            "tags": []
          },
          "execution_count": 3
        }
      ]
    },
    {
      "cell_type": "markdown",
      "metadata": {
        "id": "jgMTUvRBSo89",
        "colab_type": "text"
      },
      "source": [
        "[For Reference](https://stackoverflow.com/questions/46786211/counting-the-frequency-of-words-in-a-pandas-data-frame)"
      ]
    },
    {
      "cell_type": "code",
      "metadata": {
        "id": "pxQ5D7bjJrea",
        "colab_type": "code",
        "outputId": "1694e9bc-b128-438e-b3b1-d6d9b476e909",
        "colab": {
          "base_uri": "https://localhost:8080/",
          "height": 884
        }
      },
      "source": [
        "frequent_words = pd.Series(' '.join(df.text_only_message).split()).value_counts()[:50]\n",
        "frequent_words"
      ],
      "execution_count": 6,
      "outputs": [
        {
          "output_type": "execute_result",
          "data": {
            "text/plain": [
              "the            106\n",
              "students        69\n",
              "to              66\n",
              "and             64\n",
              "for             60\n",
              "are             39\n",
              "of              39\n",
              "will            39\n",
              "you             36\n",
              ".               36\n",
              "Dear            32\n",
              "in              31\n",
              "be              31\n",
              "is              30\n",
              "who             28\n",
              "-               26\n",
              "on              26\n",
              "above           21\n",
              "by              20\n",
              "your            18\n",
              "this            17\n",
              "not             16\n",
              "test            16\n",
              "at              16\n",
              "from            15\n",
              "AM              15\n",
              "with            15\n",
              "CSE             13\n",
              "those           13\n",
              "without         13\n",
              "have            13\n",
              "&               13\n",
              "can             12\n",
              "The             12\n",
              "that            11\n",
              "all             11\n",
              "pm              11\n",
              "register        11\n",
              "report          10\n",
              "tomorrow        10\n",
              "a               10\n",
              "link             9\n",
              "th               9\n",
              "they             9\n",
              "Please           9\n",
              "shortlisted      9\n",
              "before           9\n",
              "drive            9\n",
              "Thanq            9\n",
              "Thanking         9\n",
              "dtype: int64"
            ]
          },
          "metadata": {
            "tags": []
          },
          "execution_count": 6
        }
      ]
    },
    {
      "cell_type": "code",
      "metadata": {
        "id": "RN-IBRbcSCRW",
        "colab_type": "code",
        "outputId": "704ab9f8-62ba-46d3-adb3-932535158804",
        "colab": {
          "base_uri": "https://localhost:8080/",
          "height": 867
        }
      },
      "source": [
        "frequent_words = frequent_words.to_dict()\n",
        "frequent_words"
      ],
      "execution_count": 7,
      "outputs": [
        {
          "output_type": "execute_result",
          "data": {
            "text/plain": [
              "{'&': 13,\n",
              " '-': 26,\n",
              " '.': 36,\n",
              " 'AM': 15,\n",
              " 'CSE': 13,\n",
              " 'Dear': 32,\n",
              " 'Please': 9,\n",
              " 'Thanking': 9,\n",
              " 'Thanq': 9,\n",
              " 'The': 12,\n",
              " 'a': 10,\n",
              " 'above': 21,\n",
              " 'all': 11,\n",
              " 'and': 64,\n",
              " 'are': 39,\n",
              " 'at': 16,\n",
              " 'be': 31,\n",
              " 'before': 9,\n",
              " 'by': 20,\n",
              " 'can': 12,\n",
              " 'drive': 9,\n",
              " 'for': 60,\n",
              " 'from': 15,\n",
              " 'have': 13,\n",
              " 'in': 31,\n",
              " 'is': 30,\n",
              " 'link': 9,\n",
              " 'not': 16,\n",
              " 'of': 39,\n",
              " 'on': 26,\n",
              " 'pm': 11,\n",
              " 'register': 11,\n",
              " 'report': 10,\n",
              " 'shortlisted': 9,\n",
              " 'students': 69,\n",
              " 'test': 16,\n",
              " 'th': 9,\n",
              " 'that': 11,\n",
              " 'the': 106,\n",
              " 'they': 9,\n",
              " 'this': 17,\n",
              " 'those': 13,\n",
              " 'to': 66,\n",
              " 'tomorrow': 10,\n",
              " 'who': 28,\n",
              " 'will': 39,\n",
              " 'with': 15,\n",
              " 'without': 13,\n",
              " 'you': 36,\n",
              " 'your': 18}"
            ]
          },
          "metadata": {
            "tags": []
          },
          "execution_count": 7
        }
      ]
    },
    {
      "cell_type": "code",
      "metadata": {
        "id": "XtaKbAp5NvKd",
        "colab_type": "code",
        "colab": {
          "base_uri": "https://localhost:8080/",
          "height": 68
        },
        "outputId": "bd0c1670-d654-4472-81f4-42d053fe0443"
      },
      "source": [
        "import nltk\n",
        "nltk.download('stopwords')"
      ],
      "execution_count": 12,
      "outputs": [
        {
          "output_type": "stream",
          "text": [
            "[nltk_data] Downloading package stopwords to /root/nltk_data...\n",
            "[nltk_data]   Unzipping corpora/stopwords.zip.\n"
          ],
          "name": "stdout"
        },
        {
          "output_type": "execute_result",
          "data": {
            "text/plain": [
              "True"
            ]
          },
          "metadata": {
            "tags": []
          },
          "execution_count": 12
        }
      ]
    },
    {
      "cell_type": "code",
      "metadata": {
        "id": "xWkrwHVdNR24",
        "colab_type": "code",
        "colab": {}
      },
      "source": [
        "from nltk.corpus import stopwords \n",
        "from nltk.tokenize import word_tokenize \n",
        "stop_words = set(stopwords.words('english')) \n",
        "for word in stop_words:\n",
        "  if word.lower() in frequent_words:\n",
        "    del frequent_words[word]"
      ],
      "execution_count": 0,
      "outputs": []
    },
    {
      "cell_type": "code",
      "metadata": {
        "id": "f5lmxR3dN2aB",
        "colab_type": "code",
        "colab": {
          "base_uri": "https://localhost:8080/",
          "height": 374
        },
        "outputId": "f7fbfd7d-73cd-4353-c95b-e7bd659cfbd4"
      },
      "source": [
        "frequent_words"
      ],
      "execution_count": 15,
      "outputs": [
        {
          "output_type": "execute_result",
          "data": {
            "text/plain": [
              "{'&': 13,\n",
              " '-': 26,\n",
              " '.': 36,\n",
              " 'AM': 15,\n",
              " 'CSE': 13,\n",
              " 'Dear': 32,\n",
              " 'Please': 9,\n",
              " 'Thanking': 9,\n",
              " 'Thanq': 9,\n",
              " 'The': 12,\n",
              " 'drive': 9,\n",
              " 'link': 9,\n",
              " 'pm': 11,\n",
              " 'register': 11,\n",
              " 'report': 10,\n",
              " 'shortlisted': 9,\n",
              " 'students': 69,\n",
              " 'test': 16,\n",
              " 'th': 9,\n",
              " 'tomorrow': 10,\n",
              " 'without': 13}"
            ]
          },
          "metadata": {
            "tags": []
          },
          "execution_count": 15
        }
      ]
    },
    {
      "cell_type": "code",
      "metadata": {
        "id": "H2AgwzNPSW89",
        "colab_type": "code",
        "outputId": "243b4266-8a9e-4d1c-fdd3-8cd81d206168",
        "colab": {
          "base_uri": "https://localhost:8080/",
          "height": 303
        }
      },
      "source": [
        "import numpy as np\n",
        "import PIL.Image\n",
        "import matplotlib.pyplot as plt\n",
        "from wordcloud import WordCloud,ImageColorGenerator\n",
        "\n",
        "img_mask = np.array(PIL.Image.open(\"wanalyzer.png\"))\n",
        "image_colors = ImageColorGenerator(img_mask)\n",
        "\n",
        "wordcloud = WordCloud(background_color = 'black',mask = img_mask,random_state=1,repeat=True)\n",
        "wordcloud.fit_words(frequencies=frequent_words)\n",
        "plt.figure(figsize=(15,5))\n",
        "plt.imshow(wordcloud.recolor(color_func=image_colors), interpolation=\"bilinear\")\n",
        "plt.axis(\"off\")\n",
        "plt.show()"
      ],
      "execution_count": 19,
      "outputs": [
        {
          "output_type": "display_data",
          "data": {
            "image/png": "[encoded data removed]",
            "text/plain": [
              "<Figure size 1080x360 with 1 Axes>"
            ]
          },
          "metadata": {
            "tags": [],
            "needs_background": "light"
          }
        }
      ]
    },
    {
      "cell_type": "code",
      "metadata": {
        "id": "Daq8fa1TXvIN",
        "colab_type": "code",
        "colab": {}
      },
      "source": [
        ""
      ],
      "execution_count": 0,
      "outputs": []
    }
  ]
}