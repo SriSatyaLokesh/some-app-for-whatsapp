{
  "nbformat": 4,
  "nbformat_minor": 0,
  "metadata": {
    "colab": {
      "name": "WhatsAppAnalytics.ipynb",
      "provenance": [],
      "collapsed_sections": [],
      "authorship_tag": "ABX9TyMHmPlbtFQcNPvZ30B/Euuu",
      "include_colab_link": true
    },
    "kernelspec": {
      "name": "python3",
      "display_name": "Python 3"
    }
  },
  "cells": [
    {
      "cell_type": "markdown",
      "metadata": {
        "id": "view-in-github",
        "colab_type": "text"
      },
      "source": [
        "<a href=\"https://colab.research.google.com/github/SriSatyaLokesh/some-app-for-whatsapp/blob/master/notebooks/analytics/WhatsAppAnalytics.ipynb\" target=\"_parent\"><img src=\"https://colab.research.google.com/assets/colab-badge.svg\" alt=\"Open In Colab\"/></a>"
      ]
    },
    {
      "cell_type": "code",
      "metadata": {
        "id": "0BI8h8kAUpd8",
        "colab_type": "code",
        "colab": {}
      },
      "source": [
        "from google.colab import files\n",
        "uploaded = files.upload()"
      ],
      "execution_count": 0,
      "outputs": []
    },
    {
      "cell_type": "code",
      "metadata": {
        "id": "I4SSQgVNTsFQ",
        "colab_type": "code",
        "colab": {}
      },
      "source": [
        "import re\n",
        "\n",
        "mediaPattern = r\"(\\<Media omitted\\>)\" # Because it serves no purpose\n",
        "regexMedia = re.compile(mediaPattern, flags=re.M)\n",
        "\n",
        "dateAndTimepattern = r\"(\\d+\\/\\d+\\/\\d+)(,)(\\s)(\\d+:\\d+)(\\s)(\\w+)(\\s)(-)(\\s\\w+)*(:)\"\n",
        "regexDate = re.compile(dateAndTimepattern, flags=re.M)"
      ],
      "execution_count": 0,
      "outputs": []
    },
    {
      "cell_type": "code",
      "metadata": {
        "id": "jldDuyGWUBXD",
        "colab_type": "code",
        "colab": {}
      },
      "source": [
        "def cleanText(filename):    \n",
        "    # encoding will allow for easier pasrsing of files\n",
        "    chat = open(filename, encoding=\"utf8\")\n",
        "    chatText = chat.read()\n",
        "    chat.close()\n",
        "\n",
        "    # 01/09/17, 11:34 PM - Amfa:\n",
        "\n",
        "    \"\"\"\n",
        "    Removes the matches and \n",
        "    replace them with an empty string\n",
        "    \"\"\"\n",
        "    chatText = regexMedia.sub(\"\", chatText)\n",
        "    chatText = regexDate.sub(\"\", chatText)\n",
        "\n",
        "    lines = []\n",
        "\n",
        "    for line in chatText.splitlines():\n",
        "        if line.strip() is not \"\": # If it's empty, we don't need it\n",
        "            lines.append(line.strip())\n",
        "\n",
        "    return lines"
      ],
      "execution_count": 0,
      "outputs": []
    },
    {
      "cell_type": "code",
      "metadata": {
        "id": "NrXqribbUhWv",
        "colab_type": "code",
        "colab": {}
      },
      "source": [
        "import nltk\n",
        "nltk.download('vader_lexicon')"
      ],
      "execution_count": 0,
      "outputs": []
    },
    {
      "cell_type": "code",
      "metadata": {
        "id": "oBPCyH-gUHQf",
        "colab_type": "code",
        "colab": {}
      },
      "source": [
        "import sys\n",
        "import matplotlib.pyplot as plt\n",
        "from nltk.sentiment.vader import SentimentIntensityAnalyzer\n",
        "sentiment_analyzer = SentimentIntensityAnalyzer()"
      ],
      "execution_count": 0,
      "outputs": []
    },
    {
      "cell_type": "code",
      "metadata": {
        "id": "cbngtyMBUnce",
        "colab_type": "code",
        "colab": {
          "base_uri": "https://localhost:8080/",
          "height": 281
        },
        "outputId": "0ef5cbb3-e9d9-4844-b632-1875fb343d64"
      },
      "source": [
        "def analyze(name):\n",
        "    linesList = cleanText(name)\n",
        "    neutral, negative, positive = 0, 0, 0\n",
        "\n",
        "    for index, sentence in enumerate(linesList):\n",
        "        if re.match(r'^[\\w]', sentence) is None:\n",
        "            continue\n",
        "        scores = sentiment_analyzer.polarity_scores(sentence)\n",
        "        scores.pop('compound', None)\n",
        "\n",
        "        maxAttribute = max(scores, key=lambda k: scores[k])\n",
        "\n",
        "        if maxAttribute == \"neu\":\n",
        "            neutral += 1\n",
        "        elif maxAttribute == \"neg\":\n",
        "            negative += 1\n",
        "        else:\n",
        "            positive += 1\n",
        "\n",
        "    total = neutral + negative + positive\n",
        "    print(\"Negative: {0}% | Neutral: {1}% | Positive: {2}%\".format(\n",
        "        negative*100/total, neutral*100/total, positive*100/total))\n",
        "\n",
        "    labels = 'Neutral', 'Negative', 'Positive'\n",
        "    sizes = [neutral, negative, positive]\n",
        "    colors = ['#00bcd7', '#F57C00', '#CDDC39']\n",
        "\n",
        "    # Plot\n",
        "    plt.pie(sizes, labels=labels, colors=colors,\n",
        "            autopct='%1.1f%%', startangle=140)\n",
        "\n",
        "    plt.axis('equal')\n",
        "    plt.title(\"Sentiment Analysis - Chat with X person \")\n",
        "    plt.show()\n",
        "analyze(\"test_chat.txt\")"
      ],
      "execution_count": 11,
      "outputs": [
        {
          "output_type": "stream",
          "text": [
            "Negative: 0.5221932114882507% | Neutral: 90.07832898172323% | Positive: 9.399477806788513%\n"
          ],
          "name": "stdout"
        },
        {
          "output_type": "display_data",
          "data": {
            "image/png": "[encoded data removed]",
            "text/plain": [
              "<Figure size 432x288 with 1 Axes>"
            ]
          },
          "metadata": {
            "tags": []
          }
        }
      ]
    }
  ]
}